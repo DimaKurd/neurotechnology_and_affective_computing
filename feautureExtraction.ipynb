{
 "cells": [
  {
   "cell_type": "markdown",
   "source": [
    "<h2>Importing libraries</h2>\n",
    "Now we're going to add some libraries for feature extraction"
   ],
   "metadata": {
    "collapsed": false
   }
  },
  {
   "cell_type": "code",
   "execution_count": null,
   "outputs": [],
   "source": [
    "import librosa\n",
    "import pandas as pd\n",
    "import numpy as np\n",
    "import matplotlib.pyplot as plt\n",
    "#%matplotlib inline\n",
    "import os\n",
    "import csv\n",
    "# Preprocessing\n",
    "from sklearn.model_selection import train_test_split\n",
    "from sklearn.preprocessing import MinMaxScaler\n",
    "from sklearn.cluster import KMeans\n",
    "from sklearn.decomposition import PCA\n",
    "#Keras"
   ],
   "metadata": {
    "collapsed": false,
    "pycharm": {
     "name": "#%%\n"
    }
   }
  },
  {
   "cell_type": "markdown",
   "source": [
    "<h2>Dataset creating</h2>\n",
    "CSV file's header:"
   ],
   "metadata": {
    "collapsed": false
   }
  },
  {
   "cell_type": "code",
   "execution_count": null,
   "outputs": [],
   "source": [
    "header = 'filename spectral_centroid zcr spec_bw rolloff rms'\n",
    "for i in range(1, 41):\n",
    "    header += f' mfcc{i}'\n",
    "\n",
    "for i in range(1, 13):\n",
    "    header += f' octave{i}'\n",
    "\n",
    "for i in range(1, 129):\n",
    "    header += f' mel_based_spectr{i}'\n",
    "\n",
    "for i in range(1, 8):\n",
    "    header += f' contrast{i}'\n",
    "\n",
    "for i in range(1, 7):\n",
    "    header += f' tonnetz{i}'\n",
    "#header += ' label'\n",
    "header = header.split()"
   ],
   "metadata": {
    "collapsed": false,
    "pycharm": {
     "name": "#%%\n"
    }
   }
  },
  {
   "cell_type": "markdown",
   "source": [
    "Let's extract some features\n",
    "\n",
    "It's a long process - don't run it without strong necessary\n",
    "\n",
    "(file <i>dataset.csv</i> has already included"
   ],
   "metadata": {
    "collapsed": false
   }
  },
  {
   "cell_type": "code",
   "execution_count": null,
   "outputs": [],
   "source": [
    "file = open('dataset_most_advanced.csv', 'w', newline='')\n",
    "with file:\n",
    "    writer = csv.writer(file)\n",
    "    writer.writerow(header)\n",
    "\n",
    "    for filename in os.listdir(f'./Set1/WAV'):\n",
    "        songname = f'./Set1/WAV/{filename}'\n",
    "        y, sr = librosa.load(songname, mono=True)\n",
    "        chroma_stft = np.mean(librosa.feature.chroma_stft(y=y, sr=sr), axis=1)\n",
    "        melspectrogram = np.mean(librosa.feature.melspectrogram(y=y, sr=sr),axis=1)\n",
    "        contrast = np.mean(librosa.feature.spectral_contrast(y=y, sr=sr), axis=1)        \n",
    "        tonnetz = np.mean(librosa.feature.tonnetz(y=y, sr=sr), axis=1)\n",
    "        \n",
    "        rms = np.mean(librosa.feature.rms(y=y))\n",
    "        spec_cent = np.mean(librosa.feature.spectral_centroid(y=y, sr=sr))\n",
    "        spec_bw = np.mean(librosa.feature.spectral_bandwidth(y=y, sr=sr))\n",
    "        rolloff = np.mean(librosa.feature.spectral_rolloff(y=y, sr=sr))\n",
    "        zcr = np.mean(librosa.feature.zero_crossing_rate(y))\n",
    "        mfcc = np.mean(librosa.feature.mfcc(y=y, sr=sr, n_mfcc=40),axis=1)\n",
    "        to_append = f'{filename} {spec_cent} {zcr} {spec_bw} {rolloff} {rms}'\n",
    "        for e in mfcc:\n",
    "            to_append += f' {e}'\n",
    "\n",
    "        for e in chroma_stft:\n",
    "            to_append += f' {e}'\n",
    "\n",
    "        for e in melspectrogram:\n",
    "            to_append += f' {e}'\n",
    "\n",
    "        for e in contrast:\n",
    "            to_append += f' {e}'\n",
    "\n",
    "        for e in tonnetz:\n",
    "            to_append += f' {e}'\n",
    "\n",
    "        file = open('dataset_most_advanced.csv', 'a', newline='')\n",
    "        with file:\n",
    "            writer = csv.writer(file)\n",
    "            writer.writerow(to_append.split())"
   ],
   "metadata": {
    "collapsed": false,
    "pycharm": {
     "name": "#%%\n"
    }
   }
  },
  {
   "cell_type": "code",
   "execution_count": 10,
   "outputs": [
    {
     "data": {
      "text/plain": "'360.wav 1767.3911880115347 0.1090264423076923 1796.3165075464324 3337.9115084134614 0.08911171555519104 -158.8653106689453 119.88406372070312 -34.78178024291992 35.453556060791016 -0.4711099863052368 13.612735748291016 -13.087447166442871 -2.130436420440674 -5.94347620010376 1.2900221347808838 -4.343043804168701 8.76695442199707 -2.563502788543701 2.6661150455474854 -6.926175594329834 -1.8208589553833008 -3.1124794483184814 -0.40902090072631836 -0.6334847211837769 -3.9117178916931152 -13.163094520568848 -3.587712526321411 3.296884775161743 7.3778791427612305 -8.394342422485352 0.9735252261161804 3.650728225708008 -1.7580268383026123 -7.112412929534912 1.4295746088027954 7.670943737030029 4.171741962432861 -7.656267166137695 -0.08655668050050735 2.8358962535858154 4.196702003479004 0.12097449600696564 -2.2904152870178223 -3.214600086212158 -0.9122324585914612 0.16223131120204926 0.4179844260215759 0.46491679549217224 0.23377934098243713 0.2623509168624878 0.16766729950904846 0.28474482893943787 0.23331879079341888 0.30100083351135254 0.5709430575370789 0.24707169830799103 0.17818184196949005 0.7494254112243652 10.049409866333008 23.26103973388672 18.253061294555664 6.350852012634277 3.064798593521118 7.334755897521973 8.482027053833008 5.595869541168213 4.390120983123779 5.092094898223877 3.3346383571624756 1.5188292264938354 1.3584951162338257 2.3769888877868652 3.436349630355835 12.392210006713867 4.606642723083496 2.1041924953460693 1.1695104837417603 3.2712533473968506 5.885194778442383 8.500731468200684 1.033960223197937 3.5659210681915283 4.500753402709961 0.48247820138931274 3.128237247467041 9.59048843383789 2.6835074424743652 2.4884016513824463 1.5285749435424805 0.4811842739582062 1.6298449039459229 0.8204309940338135 0.33190274238586426 0.2661137580871582 0.9595664739608765 0.3448198437690735 0.13861596584320068 0.20028942823410034 1.8124428987503052 2.1031455993652344 1.3514434099197388 4.884982109069824 1.5242462158203125 1.0141935348510742 0.8704090118408203 2.6112375259399414 1.7211591005325317 0.31986597180366516 0.17817969620227814 1.311963438987732 1.397783875465393 0.35535380244255066 0.16852755844593048 0.7646260857582092 2.867227792739868 2.2298190593719482 8.163942337036133 1.6949342489242554 0.10297142714262009 0.056363947689533234 0.4703168272972107 0.45450034737586975 0.2923588454723358 0.22239410877227783 2.567467451095581 4.193360328674316 0.47498008608818054 0.9861380457878113 0.20205426216125488 0.1062578409910202 0.09705754369497299 0.34947487711906433 0.175820454955101 0.14337271451950073 0.08429854363203049 0.39684534072875977 0.48578208684921265 0.18985573947429657 0.09889053553342819 0.03784586489200592 0.0808401107788086 0.04785597696900368 0.15107542276382446 0.05318733677268028 0.017927926033735275 0.014862962998449802 0.07487887889146805 0.09113417565822601 0.07217754423618317 0.017029237002134323 0.01558218989521265 0.03267184644937515 0.024601124227046967 0.02464282140135765 0.02555209770798683 0.016604647040367126 0.011770695447921753 0.026244333013892174 0.019566204398870468 0.004382840823382139 0.003420559922233224 0.003994270693510771 0.002497351262718439 0.0024014438968151808 0.0018508561188355088 0.00278125936165452 0.0031085615046322346 0.0017747540259733796 0.0019919772166758776 0.0019272495992481709 0.001453061238862574 0.001661661546677351 0.0009881480364128947 0.0007222832064144313 0.0010796377900987864 0.0006854709354229271 0.0005677922163158655 0.0007871222333051264 0.00047282781451940536 0.0003352031344547868 0.0004180762334726751 0.00032575640943832695 0.00018601198098622262 7.522643863921985e-05 6.300413133430993e-06 25.6880486634281 15.08988719358166 20.21827076978879 20.750404414173587 24.080548596927017 20.756718594468065 35.98254056516571 0.09477745342409825 -0.034718726925653684 -0.07245418864947148 -0.05214568929316968 -0.0031275032313110352 0.004247378310045415'"
     },
     "execution_count": 10,
     "metadata": {},
     "output_type": "execute_result"
    }
   ],
   "source": [
    "songname = f'./Set1/WAV/001.wav'\n",
    "y, sr = librosa.load(songname, mono=True)\n",
    "chroma_stft = np.mean(librosa.feature.chroma_stft(y=y, sr=sr), axis=1)\n",
    "melspectrogram = np.mean(librosa.feature.melspectrogram(y=y, sr=sr),axis=1)\n",
    "contrast = np.mean(librosa.feature.spectral_contrast(y=y, sr=sr), axis=1)\n",
    "tonnetz = np.mean(librosa.feature.tonnetz(y=y, sr=sr), axis=1)\n",
    "\n",
    "rms = np.mean(librosa.feature.rms(y=y))\n",
    "spec_cent = np.mean(librosa.feature.spectral_centroid(y=y, sr=sr))\n",
    "spec_bw = np.mean(librosa.feature.spectral_bandwidth(y=y, sr=sr))\n",
    "rolloff = np.mean(librosa.feature.spectral_rolloff(y=y, sr=sr))\n",
    "zcr = np.mean(librosa.feature.zero_crossing_rate(y))\n",
    "mfcc = np.mean(librosa.feature.mfcc(y=y, sr=sr, n_mfcc=40),axis=1)\n",
    "to_append = f'{filename} {spec_cent} {zcr} {spec_bw} {rolloff} {rms}'\n",
    "for e in mfcc:\n",
    "    to_append += f' {e}'\n",
    "\n",
    "for e in chroma_stft:\n",
    "    to_append += f' {e}'\n",
    "\n",
    "for e in melspectrogram:\n",
    "    to_append += f' {e}'\n",
    "\n",
    "for e in contrast:\n",
    "    to_append += f' {e}'\n",
    "\n",
    "for e in tonnetz:\n",
    "    to_append += f' {e}'\n",
    "\n",
    "to_append"
   ],
   "metadata": {
    "collapsed": false,
    "pycharm": {
     "name": "#%%\n"
    }
   }
  },
  {
   "cell_type": "markdown",
   "source": [
    "<h2>Preprocessing dataset</h2>"
   ],
   "metadata": {
    "collapsed": false
   }
  },
  {
   "cell_type": "code",
   "execution_count": 11,
   "outputs": [
    {
     "name": "stdout",
     "output_type": "stream",
     "text": [
      "(360, 198)\n"
     ]
    }
   ],
   "source": [
    "librosaData = pd.read_csv('dataset_most_advanced.csv')\n",
    "filenames = librosaData['filename']\n",
    "librosaData.drop(['filename'],axis=1, inplace=True)\n",
    "librosaData.head()\n",
    "\n",
    "scalerLibrosa = MinMaxScaler()\n",
    "librosa_scaled = scalerLibrosa.fit_transform(X=librosaData)\n",
    "print(librosa_scaled.shape)"
   ],
   "metadata": {
    "collapsed": false,
    "pycharm": {
     "name": "#%%\n"
    }
   }
  },
  {
   "cell_type": "markdown",
   "source": [
    "<h2>Clustering into groups</h2>"
   ],
   "metadata": {
    "collapsed": false
   }
  },
  {
   "cell_type": "code",
   "execution_count": 12,
   "outputs": [
    {
     "data": {
      "text/plain": "array([1, 4, 4, 1, 2, 4, 1, 0, 2, 1, 1, 1, 1, 1, 1, 0, 1, 1, 2, 2, 3, 1,\n       4, 0, 0, 4, 1, 1, 0, 0, 4, 0, 4, 4, 0, 4, 4, 4, 0, 2, 4, 4, 0, 1,\n       4, 1, 0, 4, 4, 4, 0, 4, 4, 4, 1, 1, 4, 0, 4, 0, 0, 4, 4, 0, 4, 0,\n       4, 4, 4, 1, 0, 4, 0, 0, 4, 0, 1, 4, 4, 0, 4, 1, 1, 0, 4, 4, 4, 0,\n       0, 1, 2, 1, 4, 0, 3, 3, 3, 3, 1, 0, 4, 1, 1, 4, 1, 4, 0, 2, 3, 3,\n       2, 0, 3, 1, 3, 3, 4, 4, 4, 0, 3, 2, 2, 2, 3, 2, 3, 2, 3, 2, 1, 3,\n       3, 1, 1, 3, 3, 3, 1, 3, 4, 3, 1, 0, 4, 0, 4, 1, 4, 4, 4, 4, 2, 2,\n       0, 3, 0, 3, 2, 1, 0, 2, 4, 1, 1, 4, 3, 1, 3, 1, 0, 3, 3, 4, 1, 0,\n       4, 1, 0, 4, 0, 4, 1, 1, 1, 4, 0, 1, 4, 4, 1, 2, 2, 1, 0, 1, 4, 2,\n       2, 1, 4, 2, 1, 0, 1, 2, 2, 1, 1, 1, 3, 3, 3, 1, 1, 3, 2, 3, 3, 3,\n       2, 3, 2, 3, 3, 3, 2, 4, 1, 5, 3, 3, 0, 3, 4, 0, 4, 1, 3, 1, 5, 2,\n       3, 4, 3, 4, 2, 1, 3, 1, 5, 1, 1, 2, 3, 4, 3, 1, 0, 3, 3, 4, 1, 3,\n       0, 1, 3, 1, 1, 0, 4, 0, 0, 4, 4, 4, 0, 4, 4, 4, 4, 0, 0, 1, 1, 0,\n       0, 4, 4, 0, 1, 0, 0, 0, 0, 4, 4, 0, 4, 4, 2, 2, 3, 2, 3, 1, 1, 3,\n       3, 3, 4, 1, 4, 3, 3, 3, 3, 3, 1, 3, 3, 1, 3, 3, 0, 3, 1, 3, 0, 0,\n       4, 4, 4, 4, 4, 0, 4, 4, 4, 1, 4, 0, 4, 4, 4, 4, 4, 0, 1, 4, 4, 0,\n       0, 1, 0, 4, 0, 4, 4, 4])"
     },
     "execution_count": 12,
     "metadata": {},
     "output_type": "execute_result"
    }
   ],
   "source": [
    "n_clusters = 6\n",
    "clusters = KMeans(n_clusters=n_clusters, random_state=0).fit(librosa_scaled)\n",
    "clusters.labels_"
   ],
   "metadata": {
    "collapsed": false,
    "pycharm": {
     "name": "#%%\n"
    }
   }
  },
  {
   "cell_type": "markdown",
   "source": [
    "<h2>Decreasing feature size for visualisation</h2>"
   ],
   "metadata": {
    "collapsed": false
   }
  },
  {
   "cell_type": "code",
   "execution_count": 16,
   "outputs": [
    {
     "data": {
      "text/plain": "<Figure size 432x288 with 1 Axes>",
      "image/png": "[encoded data removed]"
     },
     "metadata": {
      "needs_background": "light"
     },
     "output_type": "display_data"
    }
   ],
   "source": [
    "pca = PCA(n_components=3)\n",
    "\n",
    "plotGroups = pca.fit_transform(librosa_scaled)\n",
    "centers = pca.transform(clusters.cluster_centers_)\n",
    "#print(pca.explained_variance_ratio_)\n",
    "\n",
    "expVar = []\n",
    "for i in range(1, 199):\n",
    "    pca1 = PCA(n_components=i)\n",
    "    pca1.fit_transform(librosa_scaled)\n",
    "    expVar.append(pca1.explained_variance_ratio_.sum())\n",
    "plt.plot(range(1, 199), expVar)\n",
    "\n",
    "plt.xlabel('number of features')\n",
    "plt.ylabel('explained variance ratio')\n",
    "plt.title('Dependence between explained variance and number of features')\n",
    "plt.grid(True)"
   ],
   "metadata": {
    "collapsed": false,
    "pycharm": {
     "name": "#%%\n"
    }
   }
  },
  {
   "cell_type": "markdown",
   "source": [
    "<h2>2d visualisation</h2>"
   ],
   "metadata": {
    "collapsed": false
   }
  },
  {
   "cell_type": "code",
   "execution_count": 17,
   "outputs": [
    {
     "data": {
      "text/plain": "Text(0.5, 1.0, 'created clusters')"
     },
     "execution_count": 17,
     "metadata": {},
     "output_type": "execute_result"
    },
    {
     "data": {
      "text/plain": "<Figure size 432x288 with 1 Axes>",
      "image/png": "[encoded data removed]"
     },
     "metadata": {
      "needs_background": "light"
     },
     "output_type": "display_data"
    }
   ],
   "source": [
    "plt.scatter(plotGroups[:,0], plotGroups[:,1], c=clusters.labels_)\n",
    "plt.scatter(centers[:, 0], centers[:, 1], marker='D', color = 'red')\n",
    "plt.title('created clusters')"
   ],
   "metadata": {
    "collapsed": false,
    "pycharm": {
     "name": "#%%\n"
    }
   }
  },
  {
   "cell_type": "markdown",
   "source": [
    "<h2>3d visualisation</h2>"
   ],
   "metadata": {
    "collapsed": false
   }
  },
  {
   "cell_type": "code",
   "execution_count": 18,
   "outputs": [
    {
     "data": {
      "text/plain": "'3DPlot.html'"
     },
     "execution_count": 18,
     "metadata": {},
     "output_type": "execute_result"
    }
   ],
   "source": [
    "#Make Plotly figure\n",
    "import plotly\n",
    "import plotly.graph_objs as go\n",
    "\n",
    "fig1 = go.Scatter3d(x=plotGroups[:,0],\n",
    "                    y=plotGroups[:,1],\n",
    "                    z=plotGroups[:,2],\n",
    "                    marker=dict(opacity=0.9,\n",
    "                                reversescale=True,\n",
    "                                size=5,\n",
    "                                color=clusters.labels_,\n",
    "                                #colorscale = 'HSV',\n",
    "                                line=dict (width=1)),\n",
    "                    text=filenames,\n",
    "                    line=dict (width=5),\n",
    "                    mode='markers')\n",
    "\n",
    "fig2 = go.Scatter3d(x=centers[:,0],\n",
    "                    y=centers[:,1],\n",
    "                    z=centers[:,2],\n",
    "                    marker=dict(opacity=0.9,\n",
    "                                reversescale=True,\n",
    "                                size=8,\n",
    "                                color=list(range(1,n_clusters+1)),\n",
    "                                #colorscale = 'IceFire',\n",
    "                                line=dict(width=10)),\n",
    "                    text=list(range(1,n_clusters+1)),\n",
    "\n",
    "                    mode='markers')\n",
    "#Make Plot.ly Layout\n",
    "mylayout = go.Layout(scene=dict(xaxis=dict(title=\"1 feature\"),\n",
    "                                yaxis=dict(title=\"2 feature\"),\n",
    "                                zaxis=dict(title=\"3 feature\")),)\n",
    "\n",
    "#Plot and save html\n",
    "plotly.offline.plot({\"data\": [fig1, fig2],\n",
    "                     \"layout\": mylayout},\n",
    "                     auto_open=True,\n",
    "                     filename=\"3DPlot.html\")\n",
    "\n"
   ],
   "metadata": {
    "collapsed": false,
    "pycharm": {
     "name": "#%%\n"
    }
   }
  },
  {
   "cell_type": "code",
   "execution_count": 19,
   "outputs": [
    {
     "data": {
      "text/plain": "0.058953272268476395"
     },
     "execution_count": 19,
     "metadata": {},
     "output_type": "execute_result"
    }
   ],
   "source": [
    "from sklearn.metrics import silhouette_score\n",
    "\n",
    "silhouette_score(librosa_scaled, clusters.labels_)\n",
    "\n",
    "\n"
   ],
   "metadata": {
    "collapsed": false,
    "pycharm": {
     "name": "#%%\n"
    }
   }
  }
 ],
 "metadata": {
  "kernelspec": {
   "display_name": "Python 3",
   "language": "python",
   "name": "python3"
  },
  "language_info": {
   "codemirror_mode": {
    "name": "ipython",
    "version": 2
   },
   "file_extension": ".py",
   "mimetype": "text/x-python",
   "name": "python",
   "nbconvert_exporter": "python",
   "pygments_lexer": "ipython2",
   "version": "2.7.6"
  }
 },
 "nbformat": 4,
 "nbformat_minor": 0
}