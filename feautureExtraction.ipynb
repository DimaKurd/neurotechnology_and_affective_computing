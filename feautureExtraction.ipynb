{
 "cells": [
  {
   "cell_type": "markdown",
   "metadata": {
    "collapsed": true,
    "pycharm": {
     "name": "#%% md\n"
    }
   },
   "source": [
    "<h2>Importing libraries</h2>\n",
    "Now we're going to add some libraries for feature extraction"
   ]
  },
  {
   "cell_type": "code",
   "execution_count": 26,
   "outputs": [],
   "source": [
    "import librosa\n",
    "import pandas as pd\n",
    "import numpy as np\n",
    "import matplotlib.pyplot as plt\n",
    "#%matplotlib inline\n",
    "import os\n",
    "import csv\n",
    "# Preprocessing\n",
    "from sklearn.model_selection import train_test_split\n",
    "from sklearn.preprocessing import MinMaxScaler\n",
    "from sklearn.cluster import KMeans\n",
    "from sklearn.decomposition import PCA\n",
    "#Keras"
   ],
   "metadata": {
    "collapsed": false,
    "pycharm": {
     "name": "#%%\n"
    }
   }
  },
  {
   "cell_type": "markdown",
   "source": [
    "<h2>Dataset creating</h2>\n",
    "CSV file's header:"
   ],
   "metadata": {
    "collapsed": false,
    "pycharm": {
     "name": "#%% md\n"
    }
   }
  },
  {
   "cell_type": "code",
   "execution_count": 28,
   "outputs": [],
   "source": [
    "header = 'filename chroma_stft melspectrogram contrast flatness tonnetz tempogram rmse spectral_centroid spectral_bandwidth rolloff zero_crossing_rate'\n",
    "for i in range(1, 21):\n",
    "    header += f' mfcc{i}'\n",
    "#header += ' label'\n",
    "header = header.split()"
   ],
   "metadata": {
    "collapsed": false,
    "pycharm": {
     "name": "#%%\n"
    }
   }
  },
  {
   "cell_type": "markdown",
   "source": [
    "Let's extract some features\n",
    "\n",
    "It's a long process - don't run it without strong necessary\n",
    "\n",
    "(file <i>dataset.csv</i> has already included"
   ],
   "metadata": {
    "collapsed": false
   }
  },
  {
   "cell_type": "code",
   "execution_count": 30,
   "outputs": [
    {
     "name": "stdout",
     "output_type": "stream",
     "text": [
      "001.wav\n",
      "002.wav\n",
      "003.wav\n",
      "004.wav\n",
      "005.wav\n",
      "006.wav\n",
      "007.wav\n",
      "008.wav\n",
      "009.wav\n",
      "010.wav\n",
      "011.wav\n",
      "012.wav\n",
      "013.wav\n",
      "014.wav\n",
      "015.wav\n",
      "016.wav\n",
      "017.wav\n",
      "018.wav\n",
      "019.wav\n",
      "020.wav\n",
      "021.wav\n",
      "022.wav\n",
      "023.wav\n",
      "024.wav\n",
      "025.wav\n",
      "026.wav\n",
      "027.wav\n",
      "028.wav\n",
      "029.wav\n",
      "030.wav\n",
      "031.wav\n",
      "032.wav\n",
      "033.wav\n",
      "034.wav\n",
      "035.wav\n",
      "036.wav\n",
      "037.wav\n",
      "038.wav\n",
      "039.wav\n",
      "040.wav\n",
      "041.wav\n",
      "042.wav\n",
      "043.wav\n",
      "044.wav\n",
      "045.wav\n",
      "046.wav\n",
      "047.wav\n",
      "048.wav\n",
      "049.wav\n",
      "050.wav\n",
      "051.wav\n",
      "052.wav\n",
      "053.wav\n",
      "054.wav\n",
      "055.wav\n",
      "056.wav\n",
      "057.wav\n",
      "058.wav\n",
      "059.wav\n",
      "060.wav\n",
      "061.wav\n",
      "062.wav\n",
      "063.wav\n",
      "064.wav\n",
      "065.wav\n",
      "066.wav\n",
      "067.wav\n",
      "068.wav\n",
      "069.wav\n",
      "070.wav\n",
      "071.wav\n",
      "072.wav\n",
      "073.wav\n",
      "074.wav\n",
      "075.wav\n",
      "076.wav\n",
      "077.wav\n",
      "078.wav\n",
      "079.wav\n",
      "080.wav\n",
      "081.wav\n",
      "082.wav\n",
      "083.wav\n",
      "084.wav\n",
      "085.wav\n",
      "086.wav\n",
      "087.wav\n",
      "088.wav\n",
      "089.wav\n",
      "090.wav\n",
      "091.wav\n",
      "092.wav\n",
      "093.wav\n",
      "094.wav\n",
      "095.wav\n",
      "096.wav\n",
      "097.wav\n",
      "098.wav\n",
      "099.wav\n",
      "100.wav\n",
      "101.wav\n",
      "102.wav\n",
      "103.wav\n",
      "104.wav\n",
      "105.wav\n",
      "106.wav\n",
      "107.wav\n",
      "108.wav\n",
      "109.wav\n",
      "110.wav\n",
      "111.wav\n",
      "112.wav\n",
      "113.wav\n",
      "114.wav\n",
      "115.wav\n",
      "116.wav\n",
      "117.wav\n",
      "118.wav\n",
      "119.wav\n",
      "120.wav\n",
      "121.wav\n",
      "122.wav\n",
      "123.wav\n",
      "124.wav\n",
      "125.wav\n",
      "126.wav\n",
      "127.wav\n",
      "128.wav\n",
      "129.wav\n",
      "130.wav\n",
      "131.wav\n",
      "132.wav\n",
      "133.wav\n",
      "134.wav\n",
      "135.wav\n",
      "136.wav\n",
      "137.wav\n",
      "138.wav\n",
      "139.wav\n",
      "140.wav\n",
      "141.wav\n",
      "142.wav\n",
      "143.wav\n",
      "144.wav\n",
      "145.wav\n",
      "146.wav\n",
      "147.wav\n",
      "148.wav\n",
      "149.wav\n",
      "150.wav\n",
      "151.wav\n",
      "152.wav\n",
      "153.wav\n",
      "154.wav\n",
      "155.wav\n",
      "156.wav\n",
      "157.wav\n",
      "158.wav\n",
      "159.wav\n",
      "160.wav\n",
      "161.wav\n",
      "162.wav\n",
      "163.wav\n",
      "164.wav\n",
      "165.wav\n",
      "166.wav\n",
      "167.wav\n",
      "168.wav\n",
      "169.wav\n",
      "170.wav\n",
      "171.wav\n",
      "172.wav\n",
      "173.wav\n",
      "174.wav\n",
      "175.wav\n",
      "176.wav\n",
      "177.wav\n",
      "178.wav\n",
      "179.wav\n",
      "180.wav\n",
      "181.wav\n",
      "182.wav\n",
      "183.wav\n",
      "184.wav\n",
      "185.wav\n",
      "186.wav\n",
      "187.wav\n",
      "188.wav\n",
      "189.wav\n",
      "190.wav\n",
      "191.wav\n",
      "192.wav\n",
      "193.wav\n",
      "194.wav\n",
      "195.wav\n",
      "196.wav\n",
      "197.wav\n",
      "198.wav\n",
      "199.wav\n",
      "200.wav\n",
      "201.wav\n",
      "202.wav\n",
      "203.wav\n",
      "204.wav\n",
      "205.wav\n",
      "206.wav\n",
      "207.wav\n",
      "208.wav\n",
      "209.wav\n",
      "210.wav\n",
      "211.wav\n",
      "212.wav\n",
      "213.wav\n",
      "214.wav\n",
      "215.wav\n",
      "216.wav\n",
      "217.wav\n",
      "218.wav\n",
      "219.wav\n",
      "220.wav\n",
      "221.wav\n",
      "222.wav\n",
      "223.wav\n",
      "224.wav\n",
      "225.wav\n",
      "226.wav\n",
      "227.wav\n",
      "228.wav\n",
      "229.wav\n",
      "230.wav\n",
      "231.wav\n",
      "232.wav\n",
      "233.wav\n",
      "234.wav\n",
      "235.wav\n",
      "236.wav\n",
      "237.wav\n",
      "238.wav\n",
      "239.wav\n",
      "240.wav\n",
      "241.wav\n",
      "242.wav\n",
      "243.wav\n",
      "244.wav\n",
      "245.wav\n",
      "246.wav\n",
      "247.wav\n",
      "248.wav\n",
      "249.wav\n",
      "250.wav\n",
      "251.wav\n",
      "252.wav\n",
      "253.wav\n",
      "254.wav\n",
      "255.wav\n",
      "256.wav\n",
      "257.wav\n",
      "258.wav\n",
      "259.wav\n",
      "260.wav\n",
      "261.wav\n",
      "262.wav\n",
      "263.wav\n",
      "264.wav\n",
      "265.wav\n",
      "266.wav\n",
      "267.wav\n",
      "268.wav\n",
      "269.wav\n",
      "270.wav\n",
      "271.wav\n",
      "272.wav\n",
      "273.wav\n",
      "274.wav\n",
      "275.wav\n",
      "276.wav\n",
      "277.wav\n",
      "278.wav\n",
      "279.wav\n",
      "280.wav\n",
      "281.wav\n",
      "282.wav\n",
      "283.wav\n",
      "284.wav\n",
      "285.wav\n",
      "286.wav\n",
      "287.wav\n",
      "288.wav\n",
      "289.wav\n",
      "290.wav\n",
      "291.wav\n",
      "292.wav\n",
      "293.wav\n",
      "294.wav\n",
      "295.wav\n",
      "296.wav\n",
      "297.wav\n",
      "298.wav\n",
      "299.wav\n",
      "300.wav\n",
      "301.wav\n",
      "302.wav\n",
      "303.wav\n",
      "304.wav\n",
      "305.wav\n",
      "306.wav\n",
      "307.wav\n",
      "308.wav\n",
      "309.wav\n",
      "310.wav\n",
      "311.wav\n",
      "312.wav\n",
      "313.wav\n",
      "314.wav\n",
      "315.wav\n",
      "316.wav\n",
      "317.wav\n",
      "318.wav\n",
      "319.wav\n",
      "320.wav\n",
      "321.wav\n",
      "322.wav\n",
      "323.wav\n",
      "324.wav\n",
      "325.wav\n",
      "326.wav\n",
      "327.wav\n",
      "328.wav\n",
      "329.wav\n",
      "330.wav\n",
      "331.wav\n",
      "332.wav\n",
      "333.wav\n",
      "334.wav\n",
      "335.wav\n",
      "336.wav\n",
      "337.wav\n",
      "338.wav\n",
      "339.wav\n",
      "340.wav\n",
      "341.wav\n",
      "342.wav\n",
      "343.wav\n",
      "344.wav\n",
      "345.wav\n",
      "346.wav\n",
      "347.wav\n",
      "348.wav\n",
      "349.wav\n",
      "350.wav\n",
      "351.wav\n",
      "352.wav\n",
      "353.wav\n",
      "354.wav\n",
      "355.wav\n",
      "356.wav\n",
      "357.wav\n",
      "358.wav\n",
      "359.wav\n",
      "360.wav\n"
     ]
    }
   ],
   "source": [
    "file = open('dataset_advanced.csv', 'w', newline='')\n",
    "with file:\n",
    "    writer = csv.writer(file)\n",
    "    writer.writerow(header)\n",
    "\n",
    "    for filename in os.listdir(f'./Set1/WAV'):\n",
    "        songname = f'./Set1/WAV/{filename}'\n",
    "        y, sr = librosa.load(songname, mono=True)\n",
    "        chroma_stft = librosa.feature.chroma_stft(y=y, sr=sr)\n",
    "        melspectrogram = librosa.feature.melspectrogram(y=y, sr=sr)\n",
    "        contrast = librosa.feature.spectral_contrast(y=y, sr=sr)\n",
    "        flatness = librosa.feature.spectral_flatness(y=y)\n",
    "        tonnetz = librosa.feature.tonnetz(y=y, sr=sr)\n",
    "        tempogram = librosa.feature.tempogram(y=y, sr=sr)\n",
    "        rmse = librosa.feature.rms(y=y)\n",
    "        spec_cent = librosa.feature.spectral_centroid(y=y, sr=sr)\n",
    "        spec_bw = librosa.feature.spectral_bandwidth(y=y, sr=sr)\n",
    "        rolloff = librosa.feature.spectral_rolloff(y=y, sr=sr)\n",
    "        zcr = librosa.feature.zero_crossing_rate(y)\n",
    "        mfcc = librosa.feature.mfcc(y=y, sr=sr)\n",
    "        to_append = f'{filename} {np.mean(chroma_stft)} {np.mean(melspectrogram)} {np.mean(contrast)} {np.mean(flatness)} {np.mean(tonnetz)} {np.mean(tempogram)} {np.mean(rmse)} {np.mean(spec_cent)} {np.mean(spec_bw)} {np.mean(rolloff)} {np.mean(zcr)}'\n",
    "        for e in mfcc:\n",
    "            to_append += f' {np.mean(e)}'\n",
    "\n",
    "        file = open('dataset_advanced.csv', 'a', newline='')\n",
    "        with file:\n",
    "            writer = csv.writer(file)\n",
    "            writer.writerow(to_append.split())\n"
   ],
   "metadata": {
    "collapsed": false,
    "pycharm": {
     "name": "#%%\n"
    }
   }
  },
  {
   "cell_type": "markdown",
   "source": [
    "<h2>Preprocessing dataset</h2>"
   ],
   "metadata": {
    "collapsed": false,
    "pycharm": {
     "name": "#%% md\n"
    }
   }
  },
  {
   "cell_type": "code",
   "execution_count": 34,
   "outputs": [
    {
     "data": {
      "text/plain": "'360.wav 0.2936825752258301 1.774574637413025 23.223774113933278 0.003971126861870289 -0.010570212727577036 0.15549831151615023 0.08911171555519104 1767.3911880115347 1796.3165075464324 3337.9115084134614 0.1090264423076923 -158.8653106689453 119.88406372070312 -34.78178024291992 35.453556060791016 -0.4711099863052368 13.612735748291016 -13.087447166442871 -2.130436420440674 -5.94347620010376 1.2900221347808838 -4.343043804168701 8.76695442199707 -2.563502788543701 2.6661150455474854 -6.926175594329834 -1.8208589553833008 -3.1124794483184814 -0.40902090072631836 -0.6334847211837769 -3.9117178916931152'"
     },
     "execution_count": 34,
     "metadata": {},
     "output_type": "execute_result"
    }
   ],
   "source": [
    "songname = f'./Set1/WAV/001.wav'\n",
    "y, sr = librosa.load(songname, mono=True)\n",
    "chroma_stft = librosa.feature.chroma_stft(y=y, sr=sr)\n",
    "melspectrogram = librosa.feature.melspectrogram(y=y, sr=sr)\n",
    "contrast = librosa.feature.spectral_contrast(y=y, sr=sr)\n",
    "flatness = librosa.feature.spectral_flatness(y=y)\n",
    "tonnetz = librosa.feature.tonnetz(y=y, sr=sr)\n",
    "tempogram = librosa.feature.tempogram(y=y, sr=sr)\n",
    "rmse = librosa.feature.rms(y=y)\n",
    "spec_cent = librosa.feature.spectral_centroid(y=y, sr=sr)\n",
    "spec_bw = librosa.feature.spectral_bandwidth(y=y, sr=sr)\n",
    "rolloff = librosa.feature.spectral_rolloff(y=y, sr=sr)\n",
    "zcr = librosa.feature.zero_crossing_rate(y)\n",
    "mfcc = librosa.feature.mfcc(y=y, sr=sr)\n",
    "to_append = f'{filename} {np.mean(chroma_stft)} {np.mean(melspectrogram)} {np.mean(contrast)} {np.mean(flatness)} {np.mean(tonnetz)} {np.mean(tempogram)} {np.mean(rmse)} {np.mean(spec_cent)} {np.mean(spec_bw)} {np.mean(rolloff)} {np.mean(zcr)}'\n",
    "for e in mfcc:\n",
    "    to_append += f' {np.mean(e)}'\n",
    "to_append"
   ],
   "metadata": {
    "collapsed": false,
    "pycharm": {
     "name": "#%%\n"
    }
   }
  },
  {
   "cell_type": "code",
   "execution_count": 36,
   "outputs": [
    {
     "name": "stdout",
     "output_type": "stream",
     "text": [
      "[[0.29926651 0.14133597 0.4757166  ... 0.36500164 0.43707843 0.26305436]\n",
      " [0.41483731 0.07690762 0.39306139 ... 0.36184949 0.35707246 0.25367657]\n",
      " [0.2735686  0.15089286 0.35964005 ... 0.29598113 0.37759518 0.28601648]\n",
      " ...\n",
      " [0.46097794 0.00267165 0.46161462 ... 0.46856052 0.45728931 0.38224898]\n",
      " [0.34460025 0.00451842 0.50586806 ... 0.38210133 0.34405289 0.27723581]\n",
      " [0.11556431 0.01042511 0.68807307 ... 0.69541127 0.59639437 0.3171378 ]]\n"
     ]
    }
   ],
   "source": [
    "librosaData = pd.read_csv('dataset_advanced.csv')\n",
    "filenames = librosaData['filename']\n",
    "librosaData.drop(['filename'],axis=1, inplace=True)\n",
    "librosaData.head()\n",
    "\n",
    "scalerLibrosa = MinMaxScaler()\n",
    "librosa_scaled = scalerLibrosa.fit_transform(X=librosaData)\n",
    "print(librosa_scaled)"
   ],
   "metadata": {
    "collapsed": false,
    "pycharm": {
     "name": "#%%\n"
    }
   }
  },
  {
   "cell_type": "markdown",
   "source": [
    "<h2>Clustering into groups</h2>"
   ],
   "metadata": {
    "collapsed": false
   }
  },
  {
   "cell_type": "code",
   "execution_count": 37,
   "outputs": [
    {
     "data": {
      "text/plain": "array([3, 1, 0, 3, 3, 1, 0, 4, 3, 3, 3, 1, 2, 3, 0, 4, 3, 1, 3, 3, 0, 3,\n       0, 0, 3, 1, 2, 3, 1, 4, 0, 1, 1, 0, 4, 0, 0, 3, 1, 3, 1, 0, 4, 0,\n       0, 0, 4, 1, 1, 1, 4, 3, 0, 1, 0, 0, 0, 3, 1, 3, 3, 0, 1, 4, 1, 1,\n       0, 1, 0, 0, 4, 1, 4, 0, 0, 4, 3, 3, 0, 1, 1, 0, 3, 4, 0, 1, 1, 4,\n       4, 2, 2, 3, 0, 4, 2, 0, 2, 0, 0, 4, 0, 3, 2, 3, 0, 4, 4, 3, 2, 2,\n       3, 4, 2, 3, 0, 2, 0, 0, 1, 4, 3, 2, 2, 2, 2, 3, 2, 2, 2, 3, 3, 0,\n       3, 3, 3, 2, 0, 3, 3, 2, 0, 2, 3, 4, 0, 4, 0, 0, 0, 0, 1, 1, 3, 2,\n       4, 2, 4, 2, 2, 3, 4, 3, 1, 3, 3, 1, 2, 3, 2, 3, 4, 2, 2, 0, 0, 4,\n       0, 1, 4, 0, 3, 0, 0, 3, 0, 1, 3, 0, 3, 1, 3, 3, 3, 0, 4, 3, 0, 3,\n       3, 3, 0, 3, 1, 0, 0, 3, 3, 3, 0, 0, 2, 2, 0, 3, 1, 0, 2, 2, 2, 0,\n       2, 0, 3, 2, 0, 2, 3, 0, 2, 2, 0, 2, 4, 0, 0, 4, 0, 3, 2, 0, 2, 3,\n       2, 1, 2, 1, 2, 0, 2, 3, 2, 1, 3, 2, 2, 0, 2, 3, 3, 2, 2, 1, 0, 3,\n       3, 3, 2, 2, 2, 0, 1, 4, 4, 1, 0, 0, 1, 1, 0, 1, 0, 1, 4, 0, 3, 0,\n       4, 0, 1, 4, 0, 4, 1, 1, 4, 1, 1, 1, 1, 4, 2, 2, 2, 3, 0, 3, 3, 3,\n       2, 2, 0, 2, 0, 2, 2, 0, 0, 0, 3, 2, 2, 3, 2, 2, 0, 2, 0, 2, 4, 4,\n       1, 1, 0, 0, 1, 0, 1, 0, 0, 0, 0, 1, 1, 0, 1, 3, 0, 3, 0, 1, 1, 4,\n       1, 2, 1, 1, 3, 0, 0, 1])"
     },
     "execution_count": 37,
     "metadata": {},
     "output_type": "execute_result"
    }
   ],
   "source": [
    "n_clusters = 5\n",
    "clusters = KMeans(n_clusters=n_clusters, random_state=0).fit(librosa_scaled)\n",
    "clusters.labels_"
   ],
   "metadata": {
    "collapsed": false,
    "pycharm": {
     "name": "#%%\n"
    }
   }
  },
  {
   "cell_type": "markdown",
   "source": [
    "<h2>Decreasing feature size for visualisation</h2>"
   ],
   "metadata": {
    "collapsed": false
   }
  },
  {
   "cell_type": "code",
   "execution_count": 38,
   "outputs": [
    {
     "data": {
      "text/plain": "<Figure size 432x288 with 1 Axes>",
      "image/png": "[encoded data removed]"
     },
     "metadata": {
      "needs_background": "light"
     },
     "output_type": "display_data"
    }
   ],
   "source": [
    "pca = PCA(n_components=3)\n",
    "\n",
    "plotGroups = pca.fit_transform(librosa_scaled)\n",
    "centers = pca.transform(clusters.cluster_centers_)\n",
    "#print(pca.explained_variance_ratio_)\n",
    "\n",
    "expVar = []\n",
    "for i in range(1, 27):\n",
    "    pca1 = PCA(n_components=i)\n",
    "    pca1.fit_transform(librosa_scaled)\n",
    "    expVar.append(pca1.explained_variance_ratio_.sum())\n",
    "plt.plot(range(1, 27), expVar)\n",
    "plt.xticks(range(1,27))\n",
    "plt.xlabel('number of features')\n",
    "plt.ylabel('explained variance ratio')\n",
    "plt.title('Dependence between explained variance and number of features')\n",
    "plt.grid(True)"
   ],
   "metadata": {
    "collapsed": false,
    "pycharm": {
     "name": "#%%\n"
    }
   }
  },
  {
   "cell_type": "markdown",
   "source": [
    "<h2>2d visualisation</h2>"
   ],
   "metadata": {
    "collapsed": false,
    "pycharm": {
     "name": "#%% md\n"
    }
   }
  },
  {
   "cell_type": "code",
   "execution_count": 39,
   "outputs": [
    {
     "data": {
      "text/plain": "Text(0.5, 1.0, 'created clusters')"
     },
     "execution_count": 39,
     "metadata": {},
     "output_type": "execute_result"
    },
    {
     "data": {
      "text/plain": "<Figure size 432x288 with 1 Axes>",
      "image/png": "[encoded data removed]"
     },
     "metadata": {
      "needs_background": "light"
     },
     "output_type": "display_data"
    }
   ],
   "source": [
    "plt.scatter(plotGroups[:,0], plotGroups[:,1], c=clusters.labels_)\n",
    "plt.scatter(centers[:, 0], centers[:, 1], marker='D', color = 'red')\n",
    "plt.title('created clusters')"
   ],
   "metadata": {
    "collapsed": false,
    "pycharm": {
     "name": "#%%\n"
    }
   }
  },
  {
   "cell_type": "markdown",
   "source": [
    "<h2>3d visualisation</h2>"
   ],
   "metadata": {
    "collapsed": false
   }
  },
  {
   "cell_type": "code",
   "execution_count": 40,
   "outputs": [
    {
     "data": {
      "text/plain": "'3DPlot.html'"
     },
     "execution_count": 40,
     "metadata": {},
     "output_type": "execute_result"
    }
   ],
   "source": [
    "#Make Plotly figure\n",
    "import plotly\n",
    "import plotly.graph_objs as go\n",
    "\n",
    "fig1 = go.Scatter3d(x=plotGroups[:,0],\n",
    "                    y=plotGroups[:,1],\n",
    "                    z=plotGroups[:,2],\n",
    "                    marker=dict(opacity=0.9,\n",
    "                                reversescale=True,\n",
    "                                size=5,\n",
    "                                color=clusters.labels_,\n",
    "                                #colorscale = 'HSV',\n",
    "                                line=dict (width=1)),\n",
    "                    text=filenames,\n",
    "                    line=dict (width=5),\n",
    "                    mode='markers')\n",
    "\n",
    "fig2 = go.Scatter3d(x=centers[:,0],\n",
    "                    y=centers[:,1],\n",
    "                    z=centers[:,2],\n",
    "                    marker=dict(opacity=0.9,\n",
    "                                reversescale=True,\n",
    "                                size=8,\n",
    "                                color=list(range(1,n_clusters+1)),\n",
    "                                #colorscale = 'IceFire',\n",
    "                                line=dict(width=10)),\n",
    "                    text=list(range(1,n_clusters+1)),\n",
    "\n",
    "                    mode='markers')\n",
    "#Make Plot.ly Layout\n",
    "mylayout = go.Layout(scene=dict(xaxis=dict(title=\"1 feature\"),\n",
    "                                yaxis=dict(title=\"2 feature\"),\n",
    "                                zaxis=dict(title=\"3 feature\")),)\n",
    "\n",
    "#Plot and save html\n",
    "plotly.offline.plot({\"data\": [fig1, fig2],\n",
    "                     \"layout\": mylayout},\n",
    "                     auto_open=True,\n",
    "                     filename=\"3DPlot.html\")\n",
    "\n"
   ],
   "metadata": {
    "collapsed": false,
    "pycharm": {
     "name": "#%%\n"
    }
   }
  },
  {
   "cell_type": "markdown",
   "source": [
    "<h2>Correlation between pre-annotated values and cluster's labels</h2"
   ],
   "metadata": {
    "collapsed": false
   }
  },
  {
   "cell_type": "code",
   "execution_count": null,
   "outputs": [],
   "source": [
    "#encoding words into numbers\n",
    "from sklearn.preprocessing import LabelEncoder\n",
    "\n",
    "encoder = LabelEncoder()\n",
    "\n",
    "pre_annotated = pd.read_csv('set1_tracklist.csv')\n",
    "annotated_classes = encoder.fit_transform(pre_annotated['Emotion'])\n",
    "\n",
    "np.corrcoef(annotated_classes, clusters.labels_)"
   ],
   "metadata": {
    "collapsed": false,
    "pycharm": {
     "name": "#%%\n"
    }
   }
  },
  {
   "cell_type": "markdown",
   "source": [
    "As we can see there is a very weak correlation between pre-annotated values and calculated cluster's classes"
   ],
   "metadata": {
    "collapsed": false
   }
  },
  {
   "cell_type": "markdown",
   "source": [],
   "metadata": {
    "collapsed": false,
    "pycharm": {
     "name": "#%% md\n"
    }
   }
  },
  {
   "cell_type": "markdown",
   "source": [
    "As we can see there is a very weak correlation between pre-annotated values and calculated cluster's classes"
   ],
   "metadata": {
    "collapsed": false,
    "pycharm": {
     "name": "#%% md\n"
    }
   }
  },
  {
   "cell_type": "code",
   "execution_count": 24,
   "outputs": [
    {
     "data": {
      "text/plain": "'3DPlot.html'"
     },
     "execution_count": 24,
     "metadata": {},
     "output_type": "execute_result"
    }
   ],
   "source": [
    "#Make Plotly figure\n",
    "import plotly\n",
    "import plotly.graph_objs as go\n",
    "\n",
    "fig1 = go.Scatter3d(x=plotGroups[:,0],\n",
    "                    y=plotGroups[:,1],\n",
    "                    z=plotGroups[:,2],\n",
    "                    marker=dict(opacity=0.9,\n",
    "                                reversescale=True,\n",
    "                                size=5,\n",
    "                                color=clusters.labels_,\n",
    "                                #colorscale = 'HSV',\n",
    "                                line=dict (width=1)),\n",
    "                    text=filenames,\n",
    "                    line=dict (width=5),\n",
    "                    mode='markers')\n",
    "\n",
    "fig2 = go.Scatter3d(x=centers[:,0],\n",
    "                    y=centers[:,1],\n",
    "                    z=centers[:,2],\n",
    "                    marker=dict(opacity=0.9,\n",
    "                                reversescale=True,\n",
    "                                size=8,\n",
    "                                color=list(range(1,n_clusters+1)),\n",
    "                                #colorscale = 'IceFire',\n",
    "                                line=dict(width=10)),\n",
    "                    text=list(range(1,n_clusters+1)),\n",
    "\n",
    "                    mode='markers')\n",
    "#Make Plot.ly Layout\n",
    "mylayout = go.Layout(scene=dict(xaxis=dict(title=\"1 feature\"),\n",
    "                                yaxis=dict(title=\"2 feature\"),\n",
    "                                zaxis=dict(title=\"3 feature\")),)\n",
    "\n",
    "#Plot and save html\n",
    "plotly.offline.plot({\"data\": [fig1, fig2],\n",
    "                     \"layout\": mylayout},\n",
    "                     auto_open=True,\n",
    "                     filename=\"3DPlot.html\")\n",
    "\n"
   ],
   "metadata": {
    "collapsed": false,
    "pycharm": {
     "name": "#%%\n"
    }
   }
  },
  {
   "cell_type": "markdown",
   "source": [
    "<h2>Correlation between pre-annotated values and cluster's labels</h2"
   ],
   "metadata": {
    "collapsed": false,
    "pycharm": {
     "name": "#%% md\n"
    }
   }
  },
  {
   "cell_type": "code",
   "execution_count": 14,
   "outputs": [
    {
     "data": {
      "text/plain": "array([[1.       , 0.0805609],\n       [0.0805609, 1.       ]])"
     },
     "execution_count": 14,
     "metadata": {},
     "output_type": "execute_result"
    }
   ],
   "source": [
    "#encoding words into numbers\n",
    "from sklearn.preprocessing import LabelEncoder\n",
    "\n",
    "encoder = LabelEncoder()\n",
    "\n",
    "pre_annotated = pd.read_csv('set1_tracklist.csv')\n",
    "annotated_classes = encoder.fit_transform(pre_annotated['Emotion'])\n",
    "\n",
    "np.corrcoef(annotated_classes, clusters.labels_)"
   ],
   "metadata": {
    "collapsed": false,
    "pycharm": {
     "name": "#%%\n"
    }
   }
  },
  {
   "cell_type": "markdown",
   "source": [
    "As we can see there is a very weak correlation between pre-annotated values and calculated cluster's classes"
   ],
   "metadata": {
    "collapsed": false
   }
  }
 ],
 "metadata": {
  "kernelspec": {
   "display_name": "Python 3",
   "language": "python",
   "name": "python3"
  },
  "language_info": {
   "codemirror_mode": {
    "name": "ipython",
    "version": 2
   },
   "file_extension": ".py",
   "mimetype": "text/x-python",
   "name": "python",
   "nbconvert_exporter": "python",
   "pygments_lexer": "ipython2",
   "version": "2.7.6"
  }
 },
 "nbformat": 4,
 "nbformat_minor": 0
}